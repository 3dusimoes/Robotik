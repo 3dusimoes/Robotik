{
 "cells": [
  {
   "cell_type": "code",
   "execution_count": 1,
   "metadata": {
    "collapsed": false
   },
   "outputs": [],
   "source": [
    "#Pkg.add(\"PyPlot\")\n",
    "#Pkg.build(\"PyCall\")\n",
    "using PyPlot"
   ]
  },
  {
   "cell_type": "markdown",
   "metadata": {},
   "source": [
    "### Homogene Transformationsmatrizen"
   ]
  },
  {
   "cell_type": "code",
   "execution_count": 2,
   "metadata": {
    "collapsed": false
   },
   "outputs": [
    {
     "data": {
      "text/plain": [
       "A (generic function with 1 method)"
      ]
     },
     "execution_count": 2,
     "metadata": {},
     "output_type": "execute_result"
    }
   ],
   "source": [
    "RZ(θ) = [\n",
    "    [cos(θ) -sin(θ) 0 0];\n",
    "    [sin(θ) cos(θ) 0 0];\n",
    "    [0 0 1 0];\n",
    "    [0 0 0 1]\n",
    "]\n",
    "\n",
    "RX(α) = [\n",
    "    [1 0 0 0]\n",
    "    [0 cos(α) -sin(α) 0];\n",
    "    [0 sin(α)  cos(α) 0];\n",
    "    [0 0 0 1]\n",
    "]\n",
    "\n",
    "TZ(d) = [\n",
    "    [1 0 0 0];\n",
    "    [0 1 0 0];\n",
    "    [0 0 1 d];\n",
    "    [0 0 0 1]\n",
    "]\n",
    "\n",
    "TX(a) = [\n",
    "    [1 0 0 a];\n",
    "    [0 1 0 0];\n",
    "    [0 0 1 0];\n",
    "    [0 0 0 1]\n",
    "]\n",
    "\n",
    "A(θ, d, α, a) = RZ(θ) * TZ(d) * TX(a) * RX(α)"
   ]
  },
  {
   "cell_type": "code",
   "execution_count": 3,
   "metadata": {
    "collapsed": false
   },
   "outputs": [
    {
     "data": {
      "text/plain": [
       "4x4 Array{Float64,2}:\n",
       " -1.0           1.22465e-16  -1.49976e-32  -2.0        \n",
       "  1.22465e-16   1.0          -1.22465e-16   2.44929e-16\n",
       "  0.0          -1.22465e-16  -1.0           0.0        \n",
       "  0.0           0.0           0.0           1.0        "
      ]
     },
     "execution_count": 3,
     "metadata": {},
     "output_type": "execute_result"
    }
   ],
   "source": [
    "A(π, 1, -π, 2)"
   ]
  },
  {
   "cell_type": "markdown",
   "metadata": {},
   "source": [
    "### Definition Roboter"
   ]
  },
  {
   "cell_type": "code",
   "execution_count": 4,
   "metadata": {
    "collapsed": false
   },
   "outputs": [
    {
     "data": {
      "text/plain": [
       "A3 (generic function with 1 method)"
      ]
     },
     "execution_count": 4,
     "metadata": {},
     "output_type": "execute_result"
    }
   ],
   "source": [
    "A1(θ) = A(θ,0,0,1)\n",
    "A2(θ) = A(θ,0,0,0.75)\n",
    "A3(θ) = A(θ,0,0,0.5)"
   ]
  },
  {
   "cell_type": "markdown",
   "metadata": {},
   "source": [
    "### Vorwärtskinematik"
   ]
  },
  {
   "cell_type": "code",
   "execution_count": 5,
   "metadata": {
    "collapsed": false
   },
   "outputs": [
    {
     "data": {
      "text/plain": [
       "ForwardKinematics (generic function with 1 method)"
      ]
     },
     "execution_count": 5,
     "metadata": {},
     "output_type": "execute_result"
    }
   ],
   "source": [
    "function ForwardKinematics(θ1, θ2, θ3)\n",
    "    base = [0;0;0;1]\n",
    "    \n",
    "    p1 = A1(θ1) * base\n",
    "    p2 = A1(θ1) * A2(θ2) * base\n",
    "    p3 = A1(θ1) * A2(θ2) * A3(θ3) * base\n",
    "    \n",
    "    [p1 p2 p3]\n",
    "end"
   ]
  },
  {
   "cell_type": "code",
   "execution_count": 6,
   "metadata": {
    "collapsed": false
   },
   "outputs": [
    {
     "data": {
      "text/plain": [
       "4x3 Array{Float64,2}:\n",
       " 1.0  1.40523   1.0784  \n",
       " 0.0  0.631103  0.252702\n",
       " 0.0  0.0       0.0     \n",
       " 1.0  1.0       1.0     "
      ]
     },
     "execution_count": 6,
     "metadata": {},
     "output_type": "execute_result"
    }
   ],
   "source": [
    "ForwardKinematics(0,1,3)"
   ]
  },
  {
   "cell_type": "markdown",
   "metadata": {},
   "source": [
    "### Plot Funktionen"
   ]
  },
  {
   "cell_type": "code",
   "execution_count": 7,
   "metadata": {
    "collapsed": false
   },
   "outputs": [
    {
     "data": {
      "text/plain": [
       "PlotRoboter (generic function with 1 method)"
      ]
     },
     "execution_count": 7,
     "metadata": {},
     "output_type": "execute_result"
    }
   ],
   "source": [
    "function PlotRoboter(θ1, θ2, θ3)\n",
    "    coords = ForwardKinematics(θ1, θ2, θ3)\n",
    "\n",
    "    fig = figure(figsize=(8,5))\n",
    "    xlim(-4,4)\n",
    "    ylim(-1,4)\n",
    "    xticks([])\n",
    "    yticks([])\n",
    "    \n",
    "    plot([0,           coords[1,1]], [0,           coords[2,1]], color=\"red\",   lw = 5.0)\n",
    "    plot([coords[1,1], coords[1,2]], [coords[2,1], coords[2,2]], color=\"green\", lw = 5.0)\n",
    "    plot([coords[1,2], coords[1,3]], [coords[2,2], coords[2,3]], color=\"blue\",  lw = 5.0)\n",
    "    fig\n",
    "    \n",
    "end"
   ]
  },
  {
   "cell_type": "code",
   "execution_count": 8,
   "metadata": {
    "collapsed": false,
    "scrolled": true
   },
   "outputs": [
    {
     "data": {
      "image/png": "[encoded data removed]",
      "text/plain": [
       "PyPlot.Figure(PyObject <matplotlib.figure.Figure object at 0x7f34d0914d50>)"
      ]
     },
     "execution_count": 8,
     "metadata": {},
     "output_type": "execute_result"
    }
   ],
   "source": [
    "PlotRoboter(π/2,π/4,π/8)"
   ]
  },
  {
   "cell_type": "code",
   "execution_count": 9,
   "metadata": {
    "collapsed": false
   },
   "outputs": [],
   "source": [
    "ioff()\n",
    "θ1 = collect(0:0.01:π)\n",
    "θ2 = collect(0:0.02:2π)\n",
    "θ3 = collect(0:0.04:4π)\n",
    "\n",
    "for i = 1:length(θ1)\n",
    "    fig = PlotRoboter(θ1[i], θ2[i], θ3[i]);\n",
    "    savefig(\"fk/robot_$(i-1).png\", bbox_inches=\"tight\")\n",
    "    close(fig)\n",
    "end\n",
    "\n",
    "ion()"
   ]
  },
  {
   "cell_type": "code",
   "execution_count": null,
   "metadata": {
    "collapsed": true
   },
   "outputs": [],
   "source": []
  }
 ],
 "metadata": {
  "kernelspec": {
   "display_name": "Julia 0.4.3",
   "language": "julia",
   "name": "julia-0.4"
  },
  "language_info": {
   "file_extension": ".jl",
   "mimetype": "application/julia",
   "name": "julia",
   "version": "0.4.5"
  }
 },
 "nbformat": 4,
 "nbformat_minor": 0
}
