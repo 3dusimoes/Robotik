{
 "cells": [
  {
   "cell_type": "code",
   "execution_count": 1,
   "metadata": {
    "collapsed": false
   },
   "outputs": [],
   "source": [
    "using PyPlot"
   ]
  },
  {
   "cell_type": "code",
   "execution_count": 2,
   "metadata": {
    "collapsed": true
   },
   "outputs": [],
   "source": [
    "name = \"mk-omni\"\n",
    "\n",
    "if ispath(name) == true\n",
    "    rm(name, recursive=true)\n",
    "end\n",
    "mkdir(name)\n",
    "\n",
    "if isfile(\"$(name).zip\") == true\n",
    "    rm(\"$(name).zip\")\n",
    "end"
   ]
  },
  {
   "cell_type": "code",
   "execution_count": 3,
   "metadata": {
    "collapsed": true
   },
   "outputs": [],
   "source": [
    "R3(θ) = \n",
    "[[cos(θ) -sin(θ) 0];\n",
    " [sin(θ)  cos(θ) 0];\n",
    " [0       0       1]];\n",
    "\n",
    "R2(θ) = \n",
    "[[cos(θ) -sin(θ)];\n",
    " [sin(θ)  cos(θ)];\n",
    "];\n",
    "\n",
    "R3i(θ) = inv(R3(θ));"
   ]
  },
  {
   "cell_type": "markdown",
   "metadata": {},
   "source": [
    "# Three omni-wheel robot"
   ]
  },
  {
   "cell_type": "code",
   "execution_count": 4,
   "metadata": {
    "collapsed": true
   },
   "outputs": [],
   "source": [
    "J2o = eye(3)\n",
    "\n",
    "J1o(α1, β1, α2, β2, α3, β3, l) = [\n",
    "    [sin(α1 + β1)   -cos(α1 + β1)   -l * cos(β1)];\n",
    "    [sin(α2 + β2)   -cos(α2 + β2)   -l * cos(β2)];\n",
    "    [sin(α3 + β3)   -cos(α3 + β3)   -l * cos(β3)];\n",
    "]\n",
    "\n",
    "j1o = J1o(π/3, 0, π, 0, -π/3, 0, 1)\n",
    "\n",
    "j1oi = pinv(j1o);\n",
    "\n",
    "x = 0\n",
    "y = 0\n",
    "θ = 0\n",
    "\n",
    "v1 = rand() * 0.05 + 0.05;\n",
    "v2 = rand() * 0.05 + 0.05;\n",
    "v3 = rand() * 0.05 + 0.05;\n",
    "\n",
    "N = 2500\n",
    "data = zeros(N, 6)\n",
    "\n",
    "for i = 1:N\n",
    "    if i % 10 == 0\n",
    "        v1 = v1 + randn() * 0.05 - 0.015\n",
    "        v2 = v2 + randn() * 0.05 - 0.015\n",
    "        v3 = v3 + randn() * 0.05 - 0.015\n",
    "    end\n",
    "    \n",
    "    v1 = max(-0.1, min(0.3, v1))\n",
    "    v2 = max(-0.1, min(0.3, v2))\n",
    "    v3 = max(-0.1, min(0.3, v3))\n",
    "\n",
    "    r = R3i(θ) * j1oi * J2o * [v1; v2; v3];\n",
    "\n",
    "    x = x + r[1]\n",
    "    y = y - r[2]\n",
    "    θ = θ + r[3]\n",
    "\n",
    "    data[i, 1] = x\n",
    "    data[i, 2] = y\n",
    "    data[i, 3] = θ\n",
    "    data[i, 4] = v1\n",
    "    data[i, 5] = v2\n",
    "    data[i, 6] = v3\n",
    "end"
   ]
  },
  {
   "cell_type": "code",
   "execution_count": 5,
   "metadata": {
    "collapsed": false
   },
   "outputs": [
    {
     "data": {
      "image/png": "[encoded data removed]",
      "text/plain": [
       "PyPlot.Figure(PyObject <matplotlib.figure.Figure object at 0x31938cb10>)"
      ]
     },
     "execution_count": 5,
     "metadata": {},
     "output_type": "execute_result"
    }
   ],
   "source": [
    "omni(θ) = [\n",
    "    (R2(θ + π/3) * [1.0; 0.0])';\n",
    "    (R2(θ + π)   * [1.0; 0.0])';\n",
    "    (R2(θ - π/3) * [1.0; 0.0])';\n",
    "    (R2(θ + π/3) * [1.0; 0.0])';\n",
    "]\n",
    "\n",
    "omni_wheel(θ) = [\n",
    "    (R2(θ) * [1.0; -0.5])';\n",
    "    (R2(θ) * [1.3; -0.5])';\n",
    "    (R2(θ) * [1.3;  0.5])';\n",
    "    (R2(θ) * [1.0;  0.5])';\n",
    "    (R2(θ) * [1.0; -0.5])';\n",
    "]\n",
    "\n",
    "omni_wheel_speed(θ,v) = [\n",
    "    (R2(θ) * [1.15; 0])';\n",
    "    (R2(θ) * [1.15; v * 5])'\n",
    "]\n",
    "\n",
    "function plotomni(d, index)\n",
    "    xo = d[index, 1]\n",
    "    yo = d[index, 2]\n",
    "    θ  = d[index, 3]\n",
    "    v1 = d[index, 4]\n",
    "    v2 = d[index, 5]\n",
    "    v3 = d[index, 6]\n",
    "    p  = d[:,1:2]\n",
    "\n",
    "    fig = figure(figsize=(4,4))\n",
    "    ylim(yo-4, yo+4)\n",
    "    xlim(xo-4, xo+4)\n",
    "    xticks([])\n",
    "    yticks([])\n",
    "    \n",
    "    plot(p[:,1], p[:,2], color = \"#A0A0A0\", lw=1.0)\n",
    "    \n",
    "    w1 = omni_wheel(θ + π/3)\n",
    "    w1 = reshape(w1, 5, 2)\n",
    "    x = [w1[i,1] for i = 1:size(w1)[1]]\n",
    "    y = [w1[i,2] for i = 1:size(w1)[1]]\n",
    "    plot(x + xo, y + yo, color = \"#A00000\", lw= 2.0)\n",
    "\n",
    "    w1v = omni_wheel_speed(θ + π/3, -v1)\n",
    "    w1v = reshape(w1v, 2, 2)\n",
    "    x = [w1v[i,1] for i = 1:size(w1v)[1]]\n",
    "    y = [w1v[i,2] for i = 1:size(w1v)[1]]\n",
    "    plot(x + xo, y + yo, color = \"#00A000\", lw= 2.0)\n",
    "\n",
    "    w2 = omni_wheel(θ + π)\n",
    "    w2 = reshape(w2, 5, 2)\n",
    "    x = [w2[i,1] for i = 1:size(w2)[1]]\n",
    "    y = [w2[i,2] for i = 1:size(w2)[1]]\n",
    "    plot(x + xo, y + yo, color = \"#A00000\", lw= 2.0)\n",
    "\n",
    "    w2v = omni_wheel_speed(θ + π, -v2)\n",
    "    w2v = reshape(w2v, 2, 2)\n",
    "    x = [w2v[i,1] for i = 1:size(w2v)[1]]\n",
    "    y = [w2v[i,2] for i = 1:size(w2v)[1]]\n",
    "    plot(x + xo, y + yo, color = \"#00A000\", lw= 2.0)\n",
    "\n",
    "    \n",
    "    w3 = omni_wheel(θ - π/3)\n",
    "    w3 = reshape(w3, 5, 2)\n",
    "    x = [w3[i,1] for i = 1:size(w3)[1]]\n",
    "    y = [w3[i,2] for i = 1:size(w3)[1]]\n",
    "    plot(x + xo, y + yo, color = \"#A00000\", lw= 2.0)\n",
    "\n",
    "    w3v = omni_wheel_speed(θ - π/3, -v3)\n",
    "    w3v = reshape(w3v, 2, 2)\n",
    "    x = [w3v[i,1] for i = 1:size(w3v)[1]]\n",
    "    y = [w3v[i,2] for i = 1:size(w3v)[1]]\n",
    "    plot(x + xo, y + yo, color = \"#00A000\", lw= 2.0)\n",
    "\n",
    "    \n",
    "    cr=[omni(θ)[i,:]' for i = 1:size(omni(θ))[1]]\n",
    "    x = [c[1] for c in cr]\n",
    "    y = [c[2] for c in cr]\n",
    "    plot(x + xo, y + yo, color = \"#0000A0\", lw= 2.0)\n",
    "    \n",
    "    fig\n",
    "end\n",
    "\n",
    "plotomni(data,200)"
   ]
  },
  {
   "cell_type": "code",
   "execution_count": null,
   "metadata": {
    "collapsed": false
   },
   "outputs": [],
   "source": [
    "for i=1:size(data)[1]\n",
    "    fig = plotomni(data,i);\n",
    "    savefig(\"$name/robot_$(i-1).png\", bbox_inches=\"tight\")\n",
    "    close(fig)\n",
    "end"
   ]
  },
  {
   "cell_type": "code",
   "execution_count": null,
   "metadata": {
    "collapsed": false
   },
   "outputs": [],
   "source": [
    "run(`zip -r $name $name`)\n",
    "rm(name, recursive=true)"
   ]
  },
  {
   "cell_type": "code",
   "execution_count": null,
   "metadata": {
    "collapsed": true
   },
   "outputs": [],
   "source": []
  }
 ],
 "metadata": {
  "kernelspec": {
   "display_name": "Julia 0.4.3",
   "language": "julia",
   "name": "julia-0.4"
  },
  "language_info": {
   "file_extension": ".jl",
   "mimetype": "application/julia",
   "name": "julia",
   "version": "0.4.5"
  }
 },
 "nbformat": 4,
 "nbformat_minor": 0
}
