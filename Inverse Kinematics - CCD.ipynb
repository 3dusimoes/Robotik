{
 "cells": [
  {
   "cell_type": "code",
   "execution_count": 10,
   "metadata": {
    "collapsed": true
   },
   "outputs": [],
   "source": [
    "using PyPlot\n",
    "\n",
    "if ispath(\"ikccd\") == true\n",
    "    rm(\"ikccd\", recursive=true)\n",
    "end\n",
    "mkdir(\"ikccd\")"
   ]
  },
  {
   "cell_type": "markdown",
   "metadata": {},
   "source": [
    "### Homogene Transformationsmatrizen"
   ]
  },
  {
   "cell_type": "code",
   "execution_count": 11,
   "metadata": {
    "collapsed": false
   },
   "outputs": [
    {
     "data": {
      "text/plain": [
       "normalize (generic function with 1 method)"
      ]
     },
     "execution_count": 11,
     "metadata": {},
     "output_type": "execute_result"
    }
   ],
   "source": [
    "RZ(θ) = [\n",
    "    [cos(θ) -sin(θ) 0 0];\n",
    "    [sin(θ) cos(θ) 0 0];\n",
    "    [0 0 1 0];\n",
    "    [0 0 0 1]\n",
    "]\n",
    "\n",
    "RX(α) = [\n",
    "    [1 0 0 0]\n",
    "    [0 cos(α) -sin(α) 0];\n",
    "    [0 sin(α)  cos(α) 0];\n",
    "    [0 0 0 1]\n",
    "]\n",
    "\n",
    "TZ(d) = [\n",
    "    [1 0 0 0];\n",
    "    [0 1 0 0];\n",
    "    [0 0 1 d];\n",
    "    [0 0 0 1]\n",
    "]\n",
    "\n",
    "TX(a) = [\n",
    "    [1 0 0 a];\n",
    "    [0 1 0 0];\n",
    "    [0 0 1 0];\n",
    "    [0 0 0 1]\n",
    "]\n",
    "\n",
    "A(θ, d, α, a) = RZ(θ) * TZ(d) * TX(a) * RX(α)\n",
    "\n",
    "normalize(x) = x/norm(x)"
   ]
  },
  {
   "cell_type": "code",
   "execution_count": 12,
   "metadata": {
    "collapsed": false
   },
   "outputs": [
    {
     "data": {
      "text/plain": [
       "4x4 Array{Float64,2}:\n",
       " -1.0           1.22465e-16  -1.49976e-32  -2.0        \n",
       "  1.22465e-16   1.0          -1.22465e-16   2.44929e-16\n",
       "  0.0          -1.22465e-16  -1.0           1.0        \n",
       "  0.0           0.0           0.0           1.0        "
      ]
     },
     "execution_count": 12,
     "metadata": {},
     "output_type": "execute_result"
    }
   ],
   "source": [
    "A(π, 1, -π, 2)"
   ]
  },
  {
   "cell_type": "markdown",
   "metadata": {},
   "source": [
    "### Definition Roboter"
   ]
  },
  {
   "cell_type": "code",
   "execution_count": 13,
   "metadata": {
    "collapsed": false
   },
   "outputs": [
    {
     "data": {
      "text/plain": [
       "A3 (generic function with 1 method)"
      ]
     },
     "execution_count": 13,
     "metadata": {},
     "output_type": "execute_result"
    }
   ],
   "source": [
    "A1(θ) = A(θ,0,0,2)\n",
    "A2(θ) = A(θ,0,0,1)\n",
    "A3(θ) = A(θ,0,0,0.75)"
   ]
  },
  {
   "cell_type": "markdown",
   "metadata": {},
   "source": [
    "### Direkte Kinematik"
   ]
  },
  {
   "cell_type": "code",
   "execution_count": 14,
   "metadata": {
    "collapsed": false
   },
   "outputs": [
    {
     "data": {
      "text/plain": [
       "ForwardKinematics (generic function with 1 method)"
      ]
     },
     "execution_count": 14,
     "metadata": {},
     "output_type": "execute_result"
    }
   ],
   "source": [
    "function ForwardKinematics(q)\n",
    "    base = [0;0;0;1]\n",
    "    \n",
    "    θ1 = q[1]\n",
    "    θ2 = q[2]\n",
    "    θ3 = q[3]\n",
    "    \n",
    "    p1 = A1(θ1) * base\n",
    "    p2 = A1(θ1) * A2(θ2) * base\n",
    "    p3 = A1(θ1) * A2(θ2) * A3(θ3) * base\n",
    "    \n",
    "    [p1 p2 p3]\n",
    "end"
   ]
  },
  {
   "cell_type": "markdown",
   "metadata": {},
   "source": [
    "### Plot Funktionen"
   ]
  },
  {
   "cell_type": "code",
   "execution_count": 15,
   "metadata": {
    "collapsed": false
   },
   "outputs": [
    {
     "data": {
      "text/plain": [
       "PlotRoboter (generic function with 1 method)"
      ]
     },
     "execution_count": 15,
     "metadata": {},
     "output_type": "execute_result"
    }
   ],
   "source": [
    "function PlotRoboter(coords, goal)\n",
    "    fig = figure(figsize=(8,5))\n",
    "    xlim(-4,4)\n",
    "    ylim(-1,4)\n",
    "    xticks([])\n",
    "    yticks([])\n",
    "    \n",
    "    plot([0,           coords[1,1]], [0,           coords[2,1]], color=\"red\",    lw = 5.0)\n",
    "    plot([coords[1,1], coords[1,2]], [coords[2,1], coords[2,2]], color=\"green\",  lw = 5.0)\n",
    "    plot([coords[1,2], coords[1,3]], [coords[2,2], coords[2,3]], color=\"blue\",   lw = 5.0)\n",
    "    plot([goal[1]-0.1, goal[1]+0.1], [goal[2]-0.1, goal[2]+0.1], color=\"purple\", lw = 1.0)\n",
    "    plot([goal[1]-0.1, goal[1]+0.1], [goal[2]+0.1, goal[2]-0.1], color=\"purple\", lw = 1.0)\n",
    "    fig\n",
    "end"
   ]
  },
  {
   "cell_type": "code",
   "execution_count": 16,
   "metadata": {
    "collapsed": false
   },
   "outputs": [
    {
     "data": {
      "image/png": "[encoded data removed]",
      "text/plain": [
       "PyPlot.Figure(PyObject <matplotlib.figure.Figure object at 0x31bd18390>)"
      ]
     },
     "execution_count": 16,
     "metadata": {},
     "output_type": "execute_result"
    }
   ],
   "source": [
    "coords = ForwardKinematics([π/2 π/4 π/8])\n",
    "PlotRoboter(coords, [1 1])"
   ]
  },
  {
   "cell_type": "markdown",
   "metadata": {},
   "source": [
    "### Inverse Kinematik CCD"
   ]
  },
  {
   "cell_type": "code",
   "execution_count": 17,
   "metadata": {
    "collapsed": false
   },
   "outputs": [
    {
     "data": {
      "text/plain": [
       "1x3 Array{Float64,2}:\n",
       " 1.5608  0.0  0.0"
      ]
     },
     "execution_count": 17,
     "metadata": {},
     "output_type": "execute_result"
    }
   ],
   "source": [
    "function InverseKinematicsCCD(goal, q)\n",
    "    base = [0;0;0;1]\n",
    "    δ = 0.01\n",
    "    \n",
    "    # Endeffektor\n",
    "    e = A1(q[1]) * A2(q[2]) * A3(q[3]) * base\n",
    "    \n",
    "    # Drittes Segment\n",
    "    p = A1(q[1]) * A2(q[2]) * base\n",
    "    c = e[1:2] - p[1:2]\n",
    "    t = goal - p[1:2]\n",
    "    c = normalize([c;0])\n",
    "    t = normalize([t;0])\n",
    "    cθ = dot(c,t)\n",
    "    if cθ < 1.0 # 1.0 -> θ = 0\n",
    "        k = cross(t,c)\n",
    "        θ = minimum([δ, acos(cθ)])\n",
    "        if k[3] > 0\n",
    "            q[3] = q[3] - θ\n",
    "        else\n",
    "            q[3] = q[3] + δ\n",
    "        end\n",
    "    end\n",
    "    \n",
    "    # Zweites Segment\n",
    "    p = A1(q[1]) * base\n",
    "    c = e[1:2] - p[1:2]\n",
    "    t = goal - p[1:2]\n",
    "    c = normalize([c;0])\n",
    "    t = normalize([t;0])\n",
    "    cθ = dot(c,t)\n",
    "    if cθ < 1.0 # 1.0 -> θ = 0\n",
    "        k = cross(t,c)\n",
    "        θ = minimum([δ, acos(cθ)])\n",
    "        if k[3] > 0\n",
    "            q[2] = q[2] - θ\n",
    "        else\n",
    "            q[2] = q[2] + δ\n",
    "        end\n",
    "    end\n",
    "    \n",
    "    # Erstes Segment\n",
    "    p = base\n",
    "    c = e[1:2] - p[1:2]\n",
    "    t = goal - p[1:2]\n",
    "    c = normalize([c;0])\n",
    "    t = normalize([t;0])\n",
    "    cθ = dot(c,t)\n",
    "    if cθ < 1.0 # 1.0 -> θ = 0\n",
    "        k = cross(t,c)\n",
    "        θ = minimum([δ, acos(cθ)])\n",
    "        if k[3] > 0\n",
    "            q[1] = q[1] - θ\n",
    "        else\n",
    "            q[1] = q[1] + δ\n",
    "        end\n",
    "    end\n",
    "    q\n",
    "end\n",
    "\n",
    "q = [π/2 0.01 0.01]\n",
    "goal = [1.0;2.0]\n",
    "InverseKinematicsCCD(goal, q)"
   ]
  },
  {
   "cell_type": "code",
   "execution_count": 18,
   "metadata": {
    "collapsed": false
   },
   "outputs": [
    {
     "ename": "LoadError",
     "evalue": "LoadError: BoundsError: attempt to access 1x3 Array{Float64,2}:\n 0.857055  -2.0  -1.54817\n  at index [2,1]\nwhile loading In[18], in expression starting on line 18",
     "output_type": "error",
     "traceback": [
      "LoadError: BoundsError: attempt to access 1x3 Array{Float64,2}:\n 0.857055  -2.0  -1.54817\n  at index [2,1]\nwhile loading In[18], in expression starting on line 18",
      ""
     ]
    }
   ],
   "source": [
    "q    = [π/2 0.01 0.01]\n",
    "goal = [1.0; 1.0]\n",
    "ϵ    = 0.1\n",
    "j    = 0\n",
    "\n",
    "ioff()\n",
    "\n",
    "for i = 1:200\n",
    "    j = j + 1\n",
    "    q = InverseKinematicsCCD(goal, q)\n",
    "    coords = ForwardKinematics(q)\n",
    "    fig = PlotRoboter(coords,goal)\n",
    "    savefig(\"ikccd/robot_$(j-1).png\", bbox_inches=\"tight\")\n",
    "    close(fig)\n",
    "end\n",
    "\n",
    "goal = [0.0; 3.0]\n",
    "for i = 1:400\n",
    "    j = i + 1\n",
    "    q = InverseKinematicsCCD(goal, q)\n",
    "    fig = PlotRoboter(q,goal)\n",
    "    savefig(\"ikccd/robot_$(j-1).png\", bbox_inches=\"tight\")\n",
    "    close(fig)\n",
    "end\n",
    "\n",
    "\n",
    "\n",
    "goal = [-1.0; 0.5]\n",
    "for i = 1:400\n",
    "    j = i + 1\n",
    "    q = InverseKinematicsCCD(goal, q)\n",
    "    fig = PlotRoboter(q,goal)\n",
    "    savefig(\"ikccd/robot_$(j-1).png\", bbox_inches=\"tight\")\n",
    "    close(fig)\n",
    "end\n",
    "\n",
    "ion()    "
   ]
  },
  {
   "cell_type": "code",
   "execution_count": null,
   "metadata": {
    "collapsed": true
   },
   "outputs": [],
   "source": []
  }
 ],
 "metadata": {
  "kernelspec": {
   "display_name": "Julia 0.4.3",
   "language": "julia",
   "name": "julia-0.4"
  },
  "language_info": {
   "file_extension": ".jl",
   "mimetype": "application/julia",
   "name": "julia",
   "version": "0.4.5"
  }
 },
 "nbformat": 4,
 "nbformat_minor": 0
}
