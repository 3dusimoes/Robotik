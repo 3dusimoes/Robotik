{
 "cells": [
  {
   "cell_type": "code",
   "execution_count": 1,
   "metadata": {
    "collapsed": false
   },
   "outputs": [],
   "source": [
    "using PyPlot"
   ]
  },
  {
   "cell_type": "code",
   "execution_count": 2,
   "metadata": {
    "collapsed": true
   },
   "outputs": [],
   "source": [
    "name = \"mk-dd\"\n",
    "\n",
    "if ispath(name) == true\n",
    "    rm(name, recursive=true)\n",
    "end\n",
    "mkdir(name)\n",
    "\n",
    "if isfile(\"$(name).zip\") == true\n",
    "    rm(\"$(name).zip\")\n",
    "end"
   ]
  },
  {
   "cell_type": "code",
   "execution_count": 3,
   "metadata": {
    "collapsed": true
   },
   "outputs": [],
   "source": [
    "R3(θ) = \n",
    "[[cos(θ) -sin(θ) 0];\n",
    " [sin(θ)  cos(θ) 0];\n",
    " [0       0       1]];\n",
    "\n",
    "R2(θ) = \n",
    "[[cos(θ) -sin(θ)];\n",
    " [sin(θ)  cos(θ)];\n",
    "];\n",
    "\n",
    "R3i(θ) = inv(R3(θ));"
   ]
  },
  {
   "cell_type": "markdown",
   "metadata": {},
   "source": [
    "# Two wheel, differential drive robot"
   ]
  },
  {
   "cell_type": "code",
   "execution_count": 4,
   "metadata": {
    "collapsed": false
   },
   "outputs": [],
   "source": [
    "J2 = eye(2)\n",
    "\n",
    "J1(αl, βl, αr, βr, l) = [\n",
    "    [sin(αl + βl)   -cos(αl + βl)   -l * cos(βl)];\n",
    "    [sin(αr + βr)   -cos(αr + βr)   -l * cos(βr)]\n",
    "    ]\n",
    "\n",
    "j1 = J1(π/2, 0, -π/2, π, 1)\n",
    "\n",
    "j1i = pinv(j1);\n",
    "\n",
    "x = 0;\n",
    "y = 0;\n",
    "θ = 0;\n",
    "\n",
    "vl = rand() * 0.05 + 0.05;\n",
    "vr = rand() * 0.05 + 0.05;\n",
    "\n",
    "N    = 2500\n",
    "data = zeros(N, 5)\n",
    "\n",
    "for i = 1:N\n",
    "    if i % 10 == 0\n",
    "        vl = vl + rand() * 0.2 - 0.05\n",
    "        vr = vr + rand() * 0.2 - 0.05\n",
    "    end\n",
    "    vl = max(-0.1, min(0.3, vl))\n",
    "    vr = max(-0.1, min(0.3, vr))\n",
    "\n",
    "    r = R3i(θ) * j1i * J2 * [vl; vr];\n",
    "\n",
    "    x = x + r[1]\n",
    "    y = y - r[2]\n",
    "    θ = θ + r[3]\n",
    "\n",
    "    data[i, 1] = x\n",
    "    data[i, 2] = y\n",
    "    data[i, 3] = θ\n",
    "    data[i, 4] = vl\n",
    "    data[i, 5] = vr\n",
    "end"
   ]
  },
  {
   "cell_type": "code",
   "execution_count": 5,
   "metadata": {
    "collapsed": false
   },
   "outputs": [
    {
     "data": {
      "image/png": "[encoded data removed]",
      "text/plain": [
       "PyPlot.Figure(PyObject <matplotlib.figure.Figure object at 0x320af9b50>)"
      ]
     },
     "execution_count": 5,
     "metadata": {},
     "output_type": "execute_result"
    }
   ],
   "source": [
    "car = [\n",
    "    [-1.0  0.5];\n",
    "    [-1.0  2.0];\n",
    "    [1.0   2.0];\n",
    "    [1.0  -0.5];\n",
    "    [-1.0 -0.5];\n",
    "    [-1.0  0.5];\n",
    "]\n",
    "\n",
    "wheel_left = [\n",
    "    [-1.0 -0.5];\n",
    "    [-1.3 -0.5]\n",
    "    [-1.3  0.5];\n",
    "    [-1.0  0.5];\n",
    "    [-1.0 -0.5];\n",
    "]\n",
    "\n",
    "wheel_right = [\n",
    "    [1.0 -0.5];\n",
    "    [1.3 -0.5]\n",
    "    [1.3  0.5];\n",
    "    [1.0  0.5];\n",
    "    [1.0 -0.5];\n",
    "]\n",
    "\n",
    "wheel_speed_left(v) = [\n",
    "    [-1.15 0.0];\n",
    "    [-1.15 5*v]\n",
    "]\n",
    "\n",
    "wheel_speed_right(v) = [\n",
    "    [1.15 0.0];\n",
    "    [1.15 5*v]\n",
    "]\n",
    "\n",
    "function plotcar(d, index)\n",
    "    \n",
    "    xo = d[index, 1]\n",
    "    yo = d[index, 2]\n",
    "    θ  = d[index, 3]\n",
    "    vl = d[index, 4]\n",
    "    vr = d[index, 5]\n",
    "    p  = d[:,1:2]\n",
    "\n",
    "    fig = figure(figsize=(4,4))\n",
    "    ylim(yo-4, yo+4)\n",
    "    xlim(xo-4, xo+4)\n",
    "    xticks([])\n",
    "    yticks([])\n",
    "    \n",
    "    plot(p[:,1], p[:,2], color = \"#A0A0A0\", lw=1.0)\n",
    "\n",
    "    θc = θ - π/2\n",
    "    \n",
    "    cr=[R2(θc) * car[i,:]' for i = 1:size(car)[1]]\n",
    "    x = [c[1] for c in cr]\n",
    "    y = [c[2] for c in cr]\n",
    "    plot(x + xo, y + yo, color = \"#0000A0\", lw= 2.0)\n",
    "    \n",
    "    wl=[R2(θc) * wheel_left[i,:]' for i = 1:size(wheel_left)[1]]\n",
    "    x = [c[1] for c in wl]\n",
    "    y = [c[2] for c in wl]\n",
    "    plot(x + xo, y + yo, color = \"#A00000\", lw= 2.0)\n",
    "    \n",
    "    wr=[R2(θc) * wheel_right[i,:]' for i = 1:size(wheel_right)[1]]\n",
    "    x = [c[1] for c in wr]\n",
    "    y = [c[2] for c in wr]\n",
    "    plot(x + xo, y + yo, color = \"#A00000\", lw= 2.0)\n",
    "    \n",
    "    vla = [R2(θc) * wheel_speed_left(vl)[i,:]'  for i = 1:size(wheel_speed_left(vl))[1]]\n",
    "    x = [c[1] for c in vla]\n",
    "    y = [c[2] for c in vla]\n",
    "    plot(x + xo, y + yo, color = \"#00A000\", lw= 2.0)\n",
    "\n",
    "    vra = [R2(θc) * wheel_speed_right(vr)[i,:]' for i = 1:size(wheel_speed_right(vr))[1]]\n",
    "    x = [c[1] for c in vra]\n",
    "    y = [c[2] for c in vra]\n",
    "    plot(x + xo, y + yo, color = \"#00A000\", lw= 2.0)\n",
    "        \n",
    "#    savefig(\"differential_drive/robot_$(index-1).png\", bbox_inches=\"tight\")\n",
    "    fig\n",
    "end\n",
    "\n",
    "plotcar(data,100)"
   ]
  },
  {
   "cell_type": "code",
   "execution_count": null,
   "metadata": {
    "collapsed": false
   },
   "outputs": [],
   "source": [
    "for i=1:size(data)[1]\n",
    "    fig = plotcar(data,i);\n",
    "    savefig(\"$name/robot_$(i-1).png\", bbox_inches=\"tight\")\n",
    "    close(fig)\n",
    "end"
   ]
  },
  {
   "cell_type": "code",
   "execution_count": null,
   "metadata": {
    "collapsed": true
   },
   "outputs": [],
   "source": [
    "run(`zip -r $name $name`)\n",
    "rm(name, recursive=true)"
   ]
  },
  {
   "cell_type": "code",
   "execution_count": null,
   "metadata": {
    "collapsed": true
   },
   "outputs": [],
   "source": []
  }
 ],
 "metadata": {
  "kernelspec": {
   "display_name": "Julia 0.4.3",
   "language": "julia",
   "name": "julia-0.4"
  },
  "language_info": {
   "file_extension": ".jl",
   "mimetype": "application/julia",
   "name": "julia",
   "version": "0.4.5"
  }
 },
 "nbformat": 4,
 "nbformat_minor": 0
}
