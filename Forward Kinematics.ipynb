{
 "cells": [
  {
   "cell_type": "code",
   "execution_count": 30,
   "metadata": {
    "collapsed": false
   },
   "outputs": [],
   "source": [
    "using PyPlot"
   ]
  },
  {
   "cell_type": "code",
   "execution_count": null,
   "metadata": {
    "collapsed": true
   },
   "outputs": [],
   "source": [
    "name = \"fk\"\n",
    "\n",
    "if ispath(name) == true\n",
    "    rm(name, recursive=true)\n",
    "end\n",
    "mkdir(name)\n",
    "\n",
    "if isfile(\"$(name).zip\") == true\n",
    "    rm(\"$(name).zip\")\n",
    "end"
   ]
  },
  {
   "cell_type": "markdown",
   "metadata": {},
   "source": [
    "### Homogene Transformationsmatrizen"
   ]
  },
  {
   "cell_type": "code",
   "execution_count": 20,
   "metadata": {
    "collapsed": false
   },
   "outputs": [
    {
     "data": {
      "text/plain": [
       "A (generic function with 1 method)"
      ]
     },
     "execution_count": 20,
     "metadata": {},
     "output_type": "execute_result"
    }
   ],
   "source": [
    "RZ(θ) = [\n",
    "    [cos(θ) -sin(θ) 0 0];\n",
    "    [sin(θ) cos(θ) 0 0];\n",
    "    [0 0 1 0];\n",
    "    [0 0 0 1]\n",
    "]\n",
    "\n",
    "RX(α) = [\n",
    "    [1 0 0 0]\n",
    "    [0 cos(α) -sin(α) 0];\n",
    "    [0 sin(α)  cos(α) 0];\n",
    "    [0 0 0 1]\n",
    "]\n",
    "\n",
    "TZ(d) = [\n",
    "    [1 0 0 0];\n",
    "    [0 1 0 0];\n",
    "    [0 0 1 d];\n",
    "    [0 0 0 1]\n",
    "]\n",
    "\n",
    "TX(a) = [\n",
    "    [1 0 0 a];\n",
    "    [0 1 0 0];\n",
    "    [0 0 1 0];\n",
    "    [0 0 0 1]\n",
    "]\n",
    "\n",
    "A(θ, d, α, a) = RZ(θ) * TZ(d) * TX(a) * RX(α)"
   ]
  },
  {
   "cell_type": "code",
   "execution_count": 21,
   "metadata": {
    "collapsed": false
   },
   "outputs": [
    {
     "data": {
      "text/plain": [
       "4x4 Array{Float64,2}:\n",
       " -1.0           1.22465e-16  -1.49976e-32  -2.0        \n",
       "  1.22465e-16   1.0          -1.22465e-16   2.44929e-16\n",
       "  0.0          -1.22465e-16  -1.0           1.0        \n",
       "  0.0           0.0           0.0           1.0        "
      ]
     },
     "execution_count": 21,
     "metadata": {},
     "output_type": "execute_result"
    }
   ],
   "source": [
    "A(π, 1, -π, 2)"
   ]
  },
  {
   "cell_type": "markdown",
   "metadata": {},
   "source": [
    "### Definition Roboter"
   ]
  },
  {
   "cell_type": "code",
   "execution_count": 22,
   "metadata": {
    "collapsed": false
   },
   "outputs": [
    {
     "data": {
      "text/plain": [
       "A3 (generic function with 1 method)"
      ]
     },
     "execution_count": 22,
     "metadata": {},
     "output_type": "execute_result"
    }
   ],
   "source": [
    "A1(θ) = A(θ,0,0,2)\n",
    "A2(θ) = A(θ,0,0,0.75)\n",
    "A3(θ) = A(θ,0,0,0.5)"
   ]
  },
  {
   "cell_type": "markdown",
   "metadata": {},
   "source": [
    "### Vorwärtskinematik"
   ]
  },
  {
   "cell_type": "code",
   "execution_count": 23,
   "metadata": {
    "collapsed": false
   },
   "outputs": [
    {
     "data": {
      "text/plain": [
       "ForwardKinematics (generic function with 2 methods)"
      ]
     },
     "execution_count": 23,
     "metadata": {},
     "output_type": "execute_result"
    }
   ],
   "source": [
    "function ForwardKinematics(q)\n",
    "    base = [0;0;0;1]\n",
    "    \n",
    "    θ1 = q[1]\n",
    "    θ2 = q[2]\n",
    "    θ3 = q[3]\n",
    "    \n",
    "    p1 = A1(θ1) * base\n",
    "    p2 = A1(θ1) * A2(θ2) * base\n",
    "    p3 = A1(θ1) * A2(θ2) * A3(θ3) * base\n",
    "    \n",
    "    [p1 p2 p3]\n",
    "end"
   ]
  },
  {
   "cell_type": "code",
   "execution_count": 24,
   "metadata": {
    "collapsed": false
   },
   "outputs": [
    {
     "data": {
      "text/plain": [
       "4x3 Array{Float64,2}:\n",
       " 2.0  2.40523   2.0784  \n",
       " 0.0  0.631103  0.252702\n",
       " 0.0  0.0       0.0     \n",
       " 1.0  1.0       1.0     "
      ]
     },
     "execution_count": 24,
     "metadata": {},
     "output_type": "execute_result"
    }
   ],
   "source": [
    "ForwardKinematics([0,1,3])"
   ]
  },
  {
   "cell_type": "markdown",
   "metadata": {},
   "source": [
    "### Plot Funktionen"
   ]
  },
  {
   "cell_type": "code",
   "execution_count": 25,
   "metadata": {
    "collapsed": false
   },
   "outputs": [
    {
     "data": {
      "text/plain": [
       "PlotRoboter (generic function with 2 methods)"
      ]
     },
     "execution_count": 25,
     "metadata": {},
     "output_type": "execute_result"
    }
   ],
   "source": [
    "function PlotRoboter(coords)\n",
    "    fig = figure(figsize=(8,5))\n",
    "    xlim(-4,4)\n",
    "    ylim(-1,4)\n",
    "    xticks([])\n",
    "    yticks([])\n",
    "    \n",
    "    plot([0,           coords[1,1]], [0,           coords[2,1]], color=\"red\",   lw = 5.0)\n",
    "    plot([coords[1,1], coords[1,2]], [coords[2,1], coords[2,2]], color=\"green\", lw = 5.0)\n",
    "    plot([coords[1,2], coords[1,3]], [coords[2,2], coords[2,3]], color=\"blue\",  lw = 5.0)\n",
    "    fig\n",
    "    \n",
    "end"
   ]
  },
  {
   "cell_type": "code",
   "execution_count": 26,
   "metadata": {
    "collapsed": false,
    "scrolled": true
   },
   "outputs": [
    {
     "data": {
      "image/png": "[encoded data removed]",
      "text/plain": [
       "PyPlot.Figure(PyObject <matplotlib.figure.Figure object at 0x332a92110>)"
      ]
     },
     "execution_count": 26,
     "metadata": {},
     "output_type": "execute_result"
    }
   ],
   "source": [
    "coords = ForwardKinematics([π/2,π/4,π/8])\n",
    "PlotRoboter(coords)"
   ]
  },
  {
   "cell_type": "code",
   "execution_count": 31,
   "metadata": {
    "collapsed": false
   },
   "outputs": [],
   "source": [
    "ioff()\n",
    "θ1 = collect(0:0.01:π)\n",
    "θ2 = collect(0:0.02:2π)\n",
    "θ3 = collect(0:0.04:4π)\n",
    "\n",
    "for i = 1:length(θ1)\n",
    "    coords = ForwardKinematics([θ1[i], θ2[i], θ3[i]])\n",
    "    fig = PlotRoboter(coords)\n",
    "    savefig(\"$name/robot_$(i-1).png\", bbox_inches=\"tight\")\n",
    "    close(fig)\n",
    "end\n",
    "\n",
    "ion()"
   ]
  },
  {
   "cell_type": "code",
   "execution_count": 36,
   "metadata": {
    "collapsed": false
   },
   "outputs": [
    {
     "name": "stdout",
     "output_type": "stream",
     "text": [
      "updating: fk/ (stored 0%)\n",
      "updating: fk/robot_0.png (deflated 76%)\n",
      "updating: fk/robot_1.png (deflated 61%)\n",
      "updating: fk/robot_10.png (deflated 35%)\n",
      "updating: fk/robot_100.png (deflated 22%)\n",
      "updating: fk/robot_101.png (deflated 22%)\n",
      "updating: fk/robot_102.png (deflated 22%)\n",
      "updating: fk/robot_103.png (deflated 25%)\n",
      "updating: fk/robot_104.png (deflated 24%)\n",
      "updating: fk/robot_105.png (deflated 28%)\n",
      "updating: fk/robot_106.png (deflated 26%)\n",
      "updating: fk/robot_107.png (deflated 24%)\n",
      "updating: fk/robot_108.png (deflated 24%)\n",
      "updating: fk/robot_109.png (deflated 25%)\n",
      "updating: fk/robot_11.png (deflated 37%)\n",
      "updating: fk/robot_110.png (deflated 25%)\n",
      "updating: fk/robot_111.png (deflated 25%)\n",
      "updating: fk/robot_112.png (deflated 26%)\n",
      "updating: fk/robot_113.png (deflated 26%)\n",
      "updating: fk/robot_114.png (deflated 24%)\n",
      "updating: fk/robot_115.png (deflated 23%)\n",
      "updating: fk/robot_116.png (deflated 23%)\n",
      "updating: fk/robot_117.png (deflated 23%)\n",
      "updating: fk/robot_118.png (deflated 24%)\n",
      "updating: fk/robot_119.png (deflated 23%)\n",
      "updating: fk/robot_12.png (deflated 34%)\n",
      "updating: fk/robot_120.png (deflated 22%)\n",
      "updating: fk/robot_121.png (deflated 22%)\n",
      "updating: fk/robot_122.png (deflated 22%)\n",
      "updating: fk/robot_123.png (deflated 23%)\n",
      "updating: fk/robot_124.png (deflated 25%)\n",
      "updating: fk/robot_125.png (deflated 22%)\n",
      "updating: fk/robot_126.png (deflated 23%)\n",
      "updating: fk/robot_127.png (deflated 23%)\n",
      "updating: fk/robot_128.png (deflated 23%)\n",
      "updating: fk/robot_129.png (deflated 24%)\n",
      "updating: fk/robot_13.png (deflated 32%)\n",
      "updating: fk/robot_130.png (deflated 23%)\n",
      "updating: fk/robot_131.png (deflated 23%)\n",
      "updating: fk/robot_132.png (deflated 24%)\n",
      "updating: fk/robot_133.png (deflated 24%)\n",
      "updating: fk/robot_134.png (deflated 25%)\n",
      "updating: fk/robot_135.png (deflated 27%)\n",
      "updating: fk/robot_136.png (deflated 25%)\n",
      "updating: fk/robot_137.png (deflated 28%)\n",
      "updating: fk/robot_138.png (deflated 25%)\n",
      "updating: fk/robot_139.png (deflated 25%)\n",
      "updating: fk/robot_14.png (deflated 33%)\n",
      "updating: fk/robot_140.png (deflated 26%)\n",
      "updating: fk/robot_141.png (deflated 25%)\n",
      "updating: fk/robot_142.png (deflated 25%)\n",
      "updating: fk/robot_143.png (deflated 26%)\n",
      "updating: fk/robot_144.png (deflated 26%)\n",
      "updating: fk/robot_145.png (deflated 27%)\n",
      "updating: fk/robot_146.png (deflated 27%)\n",
      "updating: fk/robot_147.png (deflated 28%)\n",
      "updating: fk/robot_148.png (deflated 30%)\n",
      "updating: fk/robot_149.png (deflated 30%)\n",
      "updating: fk/robot_15.png (deflated 34%)\n",
      "updating: fk/robot_150.png (deflated 31%)\n",
      "updating: fk/robot_151.png (deflated 33%)\n",
      "updating: fk/robot_152.png (deflated 33%)\n",
      "updating: fk/robot_153.png (deflated 36%)\n",
      "updating: fk/robot_154.png (deflated 37%)\n",
      "updating: fk/robot_155.png (deflated 41%)\n",
      "updating: fk/robot_156.png (deflated 44%)\n",
      "updating: fk/robot_157.png (deflated 50%)\n",
      "updating: fk/robot_158.png (deflated 46%)\n",
      "updating: fk/robot_159.png (deflated 41%)\n",
      "updating: fk/robot_16.png (deflated 33%)\n",
      "updating: fk/robot_160.png (deflated 38%)\n",
      "updating: fk/robot_161.png (deflated 35%)\n",
      "updating: fk/robot_162.png (deflated 34%)\n",
      "updating: fk/robot_163.png (deflated 32%)\n",
      "updating: fk/robot_164.png (deflated 30%)\n",
      "updating: fk/robot_165.png (deflated 32%)\n",
      "updating: fk/robot_166.png (deflated 28%)\n",
      "updating: fk/robot_167.png (deflated 27%)\n",
      "updating: fk/robot_168.png (deflated 27%)\n",
      "updating: fk/robot_169.png (deflated 26%)\n",
      "updating: fk/robot_17.png (deflated 30%)\n",
      "updating: fk/robot_170.png (deflated 26%)\n",
      "updating: fk/robot_171.png (deflated 26%)\n",
      "updating: fk/robot_172.png (deflated 26%)\n",
      "updating: fk/robot_173.png (deflated 26%)\n",
      "updating: fk/robot_174.png (deflated 25%)\n",
      "updating: fk/robot_175.png (deflated 26%)\n",
      "updating: fk/robot_176.png (deflated 24%)\n",
      "updating: fk/robot_177.png (deflated 24%)\n",
      "updating: fk/robot_178.png (deflated 24%)\n",
      "updating: fk/robot_179.png (deflated 25%)\n",
      "updating: fk/robot_18.png (deflated 29%)\n",
      "updating: fk/robot_180.png (deflated 25%)\n",
      "updating: fk/robot_181.png (deflated 24%)\n",
      "updating: fk/robot_182.png (deflated 24%)\n",
      "updating: fk/robot_183.png (deflated 24%)\n",
      "updating: fk/robot_184.png (deflated 24%)\n",
      "updating: fk/robot_185.png (deflated 25%)\n",
      "updating: fk/robot_186.png (deflated 25%)\n",
      "updating: fk/robot_187.png (deflated 23%)\n",
      "updating: fk/robot_188.png (deflated 23%)\n",
      "updating: fk/robot_189.png (deflated 24%)\n",
      "updating: fk/robot_19.png (deflated 29%)\n",
      "updating: fk/robot_190.png (deflated 23%)\n",
      "updating: fk/robot_191.png (deflated 23%)\n",
      "updating: fk/robot_192.png (deflated 24%)\n",
      "updating: fk/robot_193.png (deflated 24%)\n",
      "updating: fk/robot_194.png (deflated 25%)\n",
      "updating: fk/robot_195.png (deflated 22%)\n",
      "updating: fk/robot_196.png (deflated 22%)\n",
      "updating: fk/robot_197.png (deflated 22%)\n",
      "updating: fk/robot_198.png (deflated 22%)\n",
      "updating: fk/robot_199.png (deflated 23%)\n",
      "updating: fk/robot_2.png (deflated 56%)\n",
      "updating: fk/robot_20.png (deflated 30%)\n",
      "updating: fk/robot_200.png (deflated 22%)\n",
      "updating: fk/robot_201.png (deflated 24%)\n",
      "updating: fk/robot_202.png (deflated 24%)\n",
      "updating: fk/robot_203.png (deflated 23%)\n",
      "updating: fk/robot_204.png (deflated 23%)\n",
      "updating: fk/robot_205.png (deflated 25%)\n",
      "updating: fk/robot_206.png (deflated 23%)\n",
      "updating: fk/robot_207.png (deflated 24%)\n",
      "updating: fk/robot_208.png (deflated 23%)\n",
      "updating: fk/robot_209.png (deflated 24%)\n",
      "updating: fk/robot_21.png (deflated 31%)\n",
      "updating: fk/robot_210.png (deflated 25%)\n",
      "updating: fk/robot_211.png (deflated 24%)\n",
      "updating: fk/robot_212.png (deflated 22%)\n",
      "updating: fk/robot_213.png (deflated 22%)\n",
      "updating: fk/robot_214.png (deflated 22%)\n",
      "updating: fk/robot_215.png (deflated 22%)\n",
      "updating: fk/robot_216.png (deflated 22%)\n",
      "updating: fk/robot_217.png (deflated 23%)\n",
      "updating: fk/robot_218.png (deflated 21%)\n",
      "updating: fk/robot_219.png (deflated 23%)\n",
      "updating: fk/robot_22.png (deflated 33%)\n",
      "updating: fk/robot_220.png (deflated 22%)\n",
      "updating: fk/robot_221.png (deflated 23%)\n",
      "updating: fk/robot_222.png (deflated 22%)\n",
      "updating: fk/robot_223.png (deflated 26%)\n",
      "updating: fk/robot_224.png (deflated 24%)\n",
      "updating: fk/robot_225.png (deflated 23%)\n",
      "updating: fk/robot_226.png (deflated 22%)\n",
      "updating: fk/robot_227.png (deflated 23%)\n",
      "updating: fk/robot_228.png (deflated 23%)\n",
      "updating: fk/robot_229.png (deflated 21%)\n",
      "updating: fk/robot_23.png (deflated 29%)\n",
      "updating: fk/robot_230.png (deflated 21%)\n",
      "updating: fk/robot_231.png (deflated 21%)\n",
      "updating: fk/robot_232.png (deflated 22%)\n",
      "updating: fk/robot_233.png (deflated 21%)\n",
      "updating: fk/robot_234.png (deflated 21%)\n",
      "updating: fk/robot_235.png (deflated 21%)\n",
      "updating: fk/robot_236.png (deflated 23%)\n",
      "updating: fk/robot_237.png (deflated 23%)\n",
      "updating: fk/robot_238.png (deflated 22%)\n",
      "updating: fk/robot_239.png (deflated 21%)\n",
      "updating: fk/robot_24.png (deflated 28%)\n",
      "updating: fk/robot_240.png (deflated 21%)\n",
      "updating: fk/robot_241.png (deflated 21%)\n",
      "updating: fk/robot_242.png (deflated 21%)\n",
      "updating: fk/robot_243.png (deflated 21%)\n",
      "updating: fk/robot_244.png (deflated 21%)\n",
      "updating: fk/robot_245.png (deflated 22%)\n",
      "updating: fk/robot_246.png (deflated 22%)\n",
      "updating: fk/robot_247.png (deflated 24%)\n",
      "updating: fk/robot_248.png (deflated 22%)\n",
      "updating: fk/robot_249.png (deflated 22%)\n",
      "updating: fk/robot_25.png (deflated 27%)\n",
      "updating: fk/robot_250.png (deflated 22%)\n",
      "updating: fk/robot_251.png (deflated 22%)\n",
      "updating: fk/robot_252.png (deflated 21%)\n",
      "updating: fk/robot_253.png (deflated 21%)\n",
      "updating: fk/robot_254.png (deflated 22%)\n",
      "updating: fk/robot_255.png (deflated 23%)\n",
      "updating: fk/robot_256.png (deflated 22%)\n",
      "updating: fk/robot_257.png (deflated 22%)\n",
      "updating: fk/robot_258.png (deflated 22%)\n",
      "updating: fk/robot_259.png (deflated 24%)\n",
      "updating: fk/robot_26.png (deflated 26%)\n",
      "updating: fk/robot_260.png (deflated 23%)\n",
      "updating: fk/robot_261.png (deflated 24%)\n",
      "updating: fk/robot_262.png (deflated 25%)\n",
      "updating: fk/robot_263.png (deflated 24%)\n",
      "updating: fk/robot_264.png (deflated 26%)\n",
      "updating: fk/robot_265.png (deflated 23%)\n",
      "updating: fk/robot_266.png (deflated 23%)\n",
      "updating: fk/robot_267.png (deflated 26%)\n",
      "updating: fk/robot_268.png (deflated 25%)\n",
      "updating: fk/robot_269.png (deflated 30%)\n",
      "updating: fk/robot_27.png (deflated 29%)\n",
      "updating: fk/robot_270.png (deflated 25%)\n",
      "updating: fk/robot_271.png (deflated 25%)\n",
      "updating: fk/robot_272.png (deflated 24%)\n",
      "updating: fk/robot_273.png (deflated 23%)\n",
      "updating: fk/robot_274.png (deflated 22%)\n",
      "updating: fk/robot_275.png (deflated 24%)\n",
      "updating: fk/robot_276.png (deflated 22%)\n",
      "updating: fk/robot_277.png (deflated 22%)\n",
      "updating: fk/robot_278.png (deflated 21%)\n",
      "updating: fk/robot_279.png (deflated 22%)\n",
      "updating: fk/robot_28.png (deflated 25%)\n",
      "updating: fk/robot_280.png (deflated 21%)\n",
      "updating: fk/robot_281.png (deflated 22%)\n",
      "updating: fk/robot_282.png (deflated 22%)\n",
      "updating: fk/robot_283.png (deflated 24%)\n",
      "updating: fk/robot_284.png (deflated 23%)\n",
      "updating: fk/robot_285.png (deflated 22%)\n",
      "updating: fk/robot_286.png (deflated 22%)\n",
      "updating: fk/robot_287.png (deflated 22%)\n",
      "updating: fk/robot_288.png (deflated 22%)\n",
      "updating: fk/robot_289.png (deflated 24%)\n",
      "updating: fk/robot_29.png (deflated 25%)\n",
      "updating: fk/robot_290.png (deflated 24%)\n",
      "updating: fk/robot_291.png (deflated 26%)\n",
      "updating: fk/robot_292.png (deflated 31%)\n",
      "updating: fk/robot_293.png (deflated 27%)\n",
      "updating: fk/robot_294.png (deflated 26%)\n",
      "updating: fk/robot_295.png (deflated 29%)\n",
      "updating: fk/robot_296.png (deflated 26%)\n",
      "updating: fk/robot_297.png (deflated 26%)\n",
      "updating: fk/robot_298.png (deflated 26%)\n",
      "updating: fk/robot_299.png (deflated 27%)\n",
      "updating: fk/robot_3.png (deflated 51%)\n",
      "updating: fk/robot_30.png (deflated 24%)\n",
      "updating: fk/robot_300.png (deflated 28%)\n",
      "updating: fk/robot_301.png (deflated 28%)\n",
      "updating: fk/robot_302.png (deflated 28%)\n",
      "updating: fk/robot_303.png (deflated 29%)\n",
      "updating: fk/robot_304.png (deflated 33%)\n",
      "updating: fk/robot_305.png (deflated 32%)\n",
      "updating: fk/robot_306.png (deflated 33%)\n",
      "updating: fk/robot_307.png (deflated 36%)\n",
      "updating: fk/robot_308.png (deflated 36%)\n",
      "updating: fk/robot_309.png (deflated 38%)\n",
      "updating: fk/robot_31.png (deflated 24%)\n",
      "updating: fk/robot_310.png (deflated 41%)\n",
      "updating: fk/robot_311.png (deflated 45%)\n",
      "updating: fk/robot_312.png (deflated 50%)\n",
      "updating: fk/robot_313.png (deflated 57%)\n",
      "updating: fk/robot_314.png (deflated 65%)\n",
      "updating: fk/robot_32.png (deflated 25%)\n",
      "updating: fk/robot_33.png (deflated 24%)\n",
      "updating: fk/robot_34.png (deflated 24%)\n",
      "updating: fk/robot_35.png (deflated 25%)\n",
      "updating: fk/robot_36.png (deflated 24%)\n",
      "updating: fk/robot_37.png (deflated 26%)\n",
      "updating: fk/robot_38.png (deflated 24%)\n",
      "updating: fk/robot_39.png (deflated 24%)\n",
      "updating: fk/robot_4.png (deflated 47%)\n",
      "updating: fk/robot_40.png (deflated 24%)\n",
      "updating: fk/robot_41.png (deflated 25%)\n",
      "updating: fk/robot_42.png (deflated 24%)\n",
      "updating: fk/robot_43.png (deflated 25%)\n",
      "updating: fk/robot_44.png (deflated 26%)\n",
      "updating: fk/robot_45.png (deflated 30%)\n",
      "updating: fk/robot_46.png (deflated 27%)\n",
      "updating: fk/robot_47.png (deflated 25%)\n",
      "updating: fk/robot_48.png (deflated 25%)\n",
      "updating: fk/robot_49.png (deflated 25%)\n",
      "updating: fk/robot_5.png (deflated 44%)\n",
      "updating: fk/robot_50.png (deflated 24%)\n",
      "updating: fk/robot_51.png (deflated 25%)\n",
      "updating: fk/robot_52.png (deflated 26%)\n",
      "updating: fk/robot_53.png (deflated 25%)\n",
      "updating: fk/robot_54.png (deflated 24%)\n",
      "updating: fk/robot_55.png (deflated 24%)\n",
      "updating: fk/robot_56.png (deflated 25%)\n",
      "updating: fk/robot_57.png (deflated 24%)\n",
      "updating: fk/robot_58.png (deflated 23%)\n",
      "updating: fk/robot_59.png (deflated 24%)\n",
      "updating: fk/robot_6.png (deflated 42%)\n",
      "updating: fk/robot_60.png (deflated 23%)\n",
      "updating: fk/robot_61.png (deflated 23%)\n",
      "updating: fk/robot_62.png (deflated 24%)\n",
      "updating: fk/robot_63.png (deflated 22%)\n",
      "updating: fk/robot_64.png (deflated 22%)\n",
      "updating: fk/robot_65.png (deflated 22%)\n",
      "updating: fk/robot_66.png (deflated 23%)\n",
      "updating: fk/robot_67.png (deflated 24%)\n",
      "updating: fk/robot_68.png (deflated 23%)\n",
      "updating: fk/robot_69.png (deflated 22%)\n",
      "updating: fk/robot_7.png (deflated 39%)\n",
      "updating: fk/robot_70.png (deflated 23%)\n",
      "updating: fk/robot_71.png (deflated 21%)\n",
      "updating: fk/robot_72.png (deflated 21%)\n",
      "updating: fk/robot_73.png (deflated 21%)\n",
      "updating: fk/robot_74.png (deflated 21%)\n",
      "updating: fk/robot_75.png (deflated 22%)\n",
      "updating: fk/robot_76.png (deflated 22%)\n",
      "updating: fk/robot_77.png (deflated 26%)\n",
      "updating: fk/robot_78.png (deflated 22%)\n",
      "updating: fk/robot_79.png (deflated 22%)\n",
      "updating: fk/robot_8.png (deflated 38%)\n",
      "updating: fk/robot_80.png (deflated 22%)\n",
      "updating: fk/robot_81.png (deflated 22%)\n",
      "updating: fk/robot_82.png (deflated 21%)\n",
      "updating: fk/robot_83.png (deflated 21%)\n",
      "updating: fk/robot_84.png (deflated 22%)\n",
      "updating: fk/robot_85.png (deflated 22%)\n",
      "updating: fk/robot_86.png (deflated 22%)\n",
      "updating: fk/robot_87.png (deflated 21%)\n",
      "updating: fk/robot_88.png (deflated 23%)\n",
      "updating: fk/robot_89.png (deflated 23%)\n",
      "updating: fk/robot_9.png (deflated 39%)\n",
      "updating: fk/robot_90.png (deflated 22%)\n",
      "updating: fk/robot_91.png (deflated 23%)\n",
      "updating: fk/robot_92.png (deflated 22%)\n",
      "updating: fk/robot_93.png (deflated 22%)\n",
      "updating: fk/robot_94.png (deflated 21%)\n",
      "updating: fk/robot_95.png (deflated 21%)\n",
      "updating: fk/robot_96.png (deflated 21%)\n",
      "updating: fk/robot_97.png (deflated 21%)\n",
      "updating: fk/robot_98.png (deflated 22%)\n",
      "updating: fk/robot_99.png (deflated 22%)\n"
     ]
    }
   ],
   "source": [
    "run(`zip -r $name $name`)\n",
    "rm(name, recursive=true)"
   ]
  },
  {
   "cell_type": "code",
   "execution_count": null,
   "metadata": {
    "collapsed": true
   },
   "outputs": [],
   "source": []
  }
 ],
 "metadata": {
  "kernelspec": {
   "display_name": "Julia 0.4.3",
   "language": "julia",
   "name": "julia-0.4"
  },
  "language_info": {
   "file_extension": ".jl",
   "mimetype": "application/julia",
   "name": "julia",
   "version": "0.4.5"
  }
 },
 "nbformat": 4,
 "nbformat_minor": 0
}
