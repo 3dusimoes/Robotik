{
 "cells": [
  {
   "cell_type": "code",
   "execution_count": 2,
   "metadata": {
    "collapsed": false
   },
   "outputs": [],
   "source": [
    "using ODE\n",
    "using PyPlot\n",
    "using ProgressMeter"
   ]
  },
  {
   "cell_type": "code",
   "execution_count": 3,
   "metadata": {
    "collapsed": false
   },
   "outputs": [
    {
     "data": {
      "text/plain": [
       "closest (generic function with 1 method)"
      ]
     },
     "execution_count": 3,
     "metadata": {},
     "output_type": "execute_result"
    }
   ],
   "source": [
    "function f(t, v)\n",
    "    (x1,x2,y1,y2) = v\n",
    "    xpp = - R * x2 - C * x1\n",
    "    ypp = - R * y2 - C * y1\n",
    "    for i = 1:size(magnets)[1]\n",
    "        xpp = xpp + (magnets[i,1] - x1) / ( (magnets[i,1] - x1)^2 + (magnets[i,2] - y1)^2 + d^2)^(3/2)\n",
    "        ypp = ypp + (magnets[i,2] - y1) / ( (magnets[i,1] - x1)^2 + (magnets[i,2] - y1)^2 + d^2)^(3/2)\n",
    "    end\n",
    "\n",
    "    [x2;xpp;y2;ypp]\n",
    "end\n",
    "\n",
    "function closest(y)\n",
    "    last_x = y[end][1]\n",
    "    last_y = y[end][3]\n",
    "    \n",
    "    dists = [sqrt((magnets[i,1] - last_x)^2 + (magnets[i,2] - last_y)^2) for i = 1:size(magnets)[1]]\n",
    "    min = minimum(dists)\n",
    "    return find(dists .== min)[1]\n",
    "end"
   ]
  },
  {
   "cell_type": "code",
   "execution_count": 5,
   "metadata": {
    "collapsed": false
   },
   "outputs": [
    {
     "data": {
      "text/plain": [
       "0.25"
      ]
     },
     "execution_count": 5,
     "metadata": {},
     "output_type": "execute_result"
    }
   ],
   "source": [
    "l = 0.5\n",
    "magnets = [\n",
    "    [l * sin(0.0/180.0 * pi) l * cos(0.0/180.0 * pi)];\n",
    "    [l * sin(120.0/180.0 * pi) l * cos(120.0/180.0 * pi)];\n",
    "    [l * sin(240.0/180.0 * pi) l * cos(240.0/180.0 * pi)]\n",
    "]\n",
    "\n",
    "R = 0.15\n",
    "C = 0.07\n",
    "d = 0.25\n"
   ]
  },
  {
   "cell_type": "code",
   "execution_count": 6,
   "metadata": {
    "collapsed": false
   },
   "outputs": [
    {
     "name": "stdout",
     "output_type": "stream",
     "text": [
      "Progress: 100% Time: 1:23:47\n"
     ]
    }
   ],
   "source": [
    "time = 0:0.01:5;\n",
    "xv = collect(-1:0.002:1)\n",
    "yv = collect(-1:0.002:1)\n",
    "\n",
    "n = length(xv)\n",
    "m = zeros(n,n)\n",
    "\n",
    "p = Progress(n*n, 1)\n",
    "\n",
    "fd = open(\"/Users/zahedi/Desktop/m.csv\",\"w\")\n",
    "\n",
    "for xi = 1:n\n",
    "    for yi = 1:n\n",
    "        y0 = [xv[xi]; 0.0; yv[yi]; 0.0]\n",
    "        t, y = ode45(f, y0, time);\n",
    "        write(fd, \"$(xv[xi]),$(yv[yi]),$(closest(y))\\n\")\n",
    "        flush(fd)\n",
    "        next!(p)\n",
    "    end\n",
    "end\n",
    "close(fd)"
   ]
  },
  {
   "cell_type": "code",
   "execution_count": 7,
   "metadata": {
    "collapsed": false
   },
   "outputs": [],
   "source": [
    "N = 100\n",
    "\n",
    "m = readcsv(\"/Users/zahedi/Desktop/m.csv\")\n",
    "\n",
    "indices = zeros(N,3)\n",
    "indices_index = 1\n",
    "\n",
    "time = 0:0.01:10;\n",
    "\n",
    "for i = 1:N\n",
    "    a = [0 0 0]\n",
    "    while a[3] != round(ceil(rand()*3),0)\n",
    "        a = m[round(ceil(rand()*size(m)[1]),0),:]\n",
    "    end\n",
    "    indices[indices_index,:] = a\n",
    "    indices_index = indices_index + 1\n",
    "end\n",
    "\n",
    "for i = 1:N\n",
    "    y0 = [indices[i,1]; 0.0; indices[i,2]; 0.0]\n",
    "    t, y = ode45(f, y0, time);    \n",
    "    writecsv(\"/Users/zahedi/Desktop/run_$i.csv\", [[v[1] for v in y] [v[3] for v in y]])\n",
    "end"
   ]
  },
  {
   "cell_type": "code",
   "execution_count": null,
   "metadata": {
    "collapsed": true
   },
   "outputs": [],
   "source": []
  }
 ],
 "metadata": {
  "kernelspec": {
   "display_name": "Julia 0.4.5",
   "language": "julia",
   "name": "julia-0.4"
  },
  "language_info": {
   "file_extension": ".jl",
   "mimetype": "application/julia",
   "name": "julia",
   "version": "0.4.5"
  }
 },
 "nbformat": 4,
 "nbformat_minor": 0
}
