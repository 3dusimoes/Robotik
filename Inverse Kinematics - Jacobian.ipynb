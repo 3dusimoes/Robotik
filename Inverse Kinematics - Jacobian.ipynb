{
 "cells": [
  {
   "cell_type": "code",
   "execution_count": 1,
   "metadata": {
    "collapsed": true
   },
   "outputs": [],
   "source": [
    "using PyPlot\n",
    "\n",
    "if isdir(\"ikj\") == true\n",
    "    rm(\"ikj\", recursive=true)\n",
    "end\n",
    "\n",
    "mkdir(\"ikj\")"
   ]
  },
  {
   "cell_type": "markdown",
   "metadata": {},
   "source": [
    "### Homogene Transformationsmatrizen"
   ]
  },
  {
   "cell_type": "code",
   "execution_count": 2,
   "metadata": {
    "collapsed": false
   },
   "outputs": [
    {
     "data": {
      "text/plain": [
       "A (generic function with 1 method)"
      ]
     },
     "execution_count": 2,
     "metadata": {},
     "output_type": "execute_result"
    }
   ],
   "source": [
    "RZ(θ) = [\n",
    "    [cos(θ) -sin(θ) 0 0];\n",
    "    [sin(θ) cos(θ) 0 0];\n",
    "    [0 0 1 0];\n",
    "    [0 0 0 1]\n",
    "]\n",
    "\n",
    "RX(α) = [\n",
    "    [1 0 0 0]\n",
    "    [0 cos(α) -sin(α) 0];\n",
    "    [0 sin(α)  cos(α) 0];\n",
    "    [0 0 0 1]\n",
    "]\n",
    "\n",
    "TZ(d) = [\n",
    "    [1 0 0 0];\n",
    "    [0 1 0 0];\n",
    "    [0 0 1 d];\n",
    "    [0 0 0 1]\n",
    "]\n",
    "\n",
    "TX(a) = [\n",
    "    [1 0 0 a];\n",
    "    [0 1 0 0];\n",
    "    [0 0 1 0];\n",
    "    [0 0 0 1]\n",
    "]\n",
    "\n",
    "A(θ, d, α, a) = RZ(θ) * TZ(d) * TX(a) * RX(α)"
   ]
  },
  {
   "cell_type": "code",
   "execution_count": 3,
   "metadata": {
    "collapsed": false
   },
   "outputs": [
    {
     "data": {
      "text/plain": [
       "4x4 Array{Float64,2}:\n",
       " -1.0           1.22465e-16  -1.49976e-32  -2.0        \n",
       "  1.22465e-16   1.0          -1.22465e-16   2.44929e-16\n",
       "  0.0          -1.22465e-16  -1.0           1.0        \n",
       "  0.0           0.0           0.0           1.0        "
      ]
     },
     "execution_count": 3,
     "metadata": {},
     "output_type": "execute_result"
    }
   ],
   "source": [
    "A(π, 1, -π, 2)"
   ]
  },
  {
   "cell_type": "markdown",
   "metadata": {},
   "source": [
    "### Definition Roboter"
   ]
  },
  {
   "cell_type": "code",
   "execution_count": 4,
   "metadata": {
    "collapsed": false
   },
   "outputs": [
    {
     "data": {
      "text/plain": [
       "normalize (generic function with 1 method)"
      ]
     },
     "execution_count": 4,
     "metadata": {},
     "output_type": "execute_result"
    }
   ],
   "source": [
    "A1(θ) = A(θ,0,0,2)\n",
    "A2(θ) = A(θ,0,0,1)\n",
    "A3(θ) = A(θ,0,0,0.75)\n",
    "\n",
    "endeffector(θ1,θ2,θ3) = [\n",
    "    2. * cos(θ1) + cos(θ1 + θ2) +  0.75 * cos(θ1 + θ2 + θ3);\n",
    "    2. * sin(θ1) + sin(θ1 + θ2) +  0.75 * sin(θ1 + θ2 + θ3);\n",
    "    0;\n",
    "    1\n",
    "]\n",
    "\n",
    "function J(θ1, θ2, θ3)\n",
    "    a = -2 * sin(θ1) - sin(θ1 + θ2) - 0.75 * sin(θ1 + θ2 + θ3)\n",
    "    b = -1 * sin(θ1 + θ2) - 0.75 * sin(θ1 + θ2 + θ3)\n",
    "    c = -0.75 * sin(θ1 + θ2 + θ3)\n",
    "    \n",
    "    d = 2 * cos(θ1) + cos(θ1 + θ2) + 0.75 * cos(θ1 + θ2 + θ3)\n",
    "    e = 1 * cos(θ1 + θ2) + 0.75 * cos(θ1 + θ2 + θ3)\n",
    "    f = 0.75 * cos(θ1 + θ2 + θ3)\n",
    "\n",
    "    [ [a b c]; [d e f]]\n",
    "end\n",
    "\n",
    "Jinv(θ1, θ2, θ3) = pinv(J(θ1, θ2, θ3))\n",
    "\n",
    "normalize(x) = x/norm(x)"
   ]
  },
  {
   "cell_type": "markdown",
   "metadata": {},
   "source": [
    "### Direkte Kinematik"
   ]
  },
  {
   "cell_type": "code",
   "execution_count": 5,
   "metadata": {
    "collapsed": false
   },
   "outputs": [
    {
     "data": {
      "text/plain": [
       "ForwardKinematics (generic function with 1 method)"
      ]
     },
     "execution_count": 5,
     "metadata": {},
     "output_type": "execute_result"
    }
   ],
   "source": [
    "function ForwardKinematics(q)\n",
    "    base = [0;0;0;1]\n",
    "    \n",
    "    θ1 = q[1]\n",
    "    θ2 = q[2]\n",
    "    θ3 = q[3]\n",
    "    \n",
    "    p1 = A1(θ1) * base\n",
    "    p2 = A1(θ1) * A2(θ2) * base\n",
    "    p3 = A1(θ1) * A2(θ2) * A3(θ3) * base\n",
    "    \n",
    "    [p1 p2 p3]\n",
    "end"
   ]
  },
  {
   "cell_type": "markdown",
   "metadata": {},
   "source": [
    "### Inverse Kinematik"
   ]
  },
  {
   "cell_type": "code",
   "execution_count": 6,
   "metadata": {
    "collapsed": false
   },
   "outputs": [
    {
     "data": {
      "text/plain": [
       "InverseKinematics (generic function with 1 method)"
      ]
     },
     "execution_count": 6,
     "metadata": {},
     "output_type": "execute_result"
    }
   ],
   "source": [
    "function InverseKinematics(goal, q)\n",
    "    base = [0;0;0;1]\n",
    "    δ = 0.01\n",
    "    e = A1(q[1]) * A2(q[2]) * A3(q[3]) * base\n",
    "    j = Jinv(q[1], q[2], q[3])\n",
    "    d = reshape(goal - e[1:2], 2,1)\n",
    "    step = j * d\n",
    "    dist = sqrt(step[1] * step[1] + step[2] * step[2])\n",
    "    if dist > δ\n",
    "        step = normalize(step) * δ\n",
    "    end\n",
    "    q = q + step'\n",
    "    q\n",
    "end"
   ]
  },
  {
   "cell_type": "markdown",
   "metadata": {},
   "source": [
    "### Plot Funktionen"
   ]
  },
  {
   "cell_type": "code",
   "execution_count": 7,
   "metadata": {
    "collapsed": false
   },
   "outputs": [
    {
     "data": {
      "text/plain": [
       "PlotRoboter (generic function with 1 method)"
      ]
     },
     "execution_count": 7,
     "metadata": {},
     "output_type": "execute_result"
    }
   ],
   "source": [
    "function PlotRoboter(coords, goal)\n",
    "    fig = figure(figsize=(8,5))\n",
    "    xlim(-4,4)\n",
    "    ylim(-1,4)\n",
    "    xticks([])\n",
    "    yticks([])\n",
    "    \n",
    "    plot([0,           coords[1,1]], [0,           coords[2,1]], color=\"red\",    lw = 5.0)\n",
    "    plot([coords[1,1], coords[1,2]], [coords[2,1], coords[2,2]], color=\"green\",  lw = 5.0)\n",
    "    plot([coords[1,2], coords[1,3]], [coords[2,2], coords[2,3]], color=\"blue\",   lw = 5.0)\n",
    "    plot([goal[1]-0.1, goal[1]+0.1], [goal[2]-0.1, goal[2]+0.1], color=\"purple\", lw = 1.0)\n",
    "    plot([goal[1]-0.1, goal[1]+0.1], [goal[2]+0.1, goal[2]-0.1], color=\"purple\", lw = 1.0)\n",
    "    fig\n",
    "end"
   ]
  },
  {
   "cell_type": "code",
   "execution_count": null,
   "metadata": {
    "collapsed": false
   },
   "outputs": [],
   "source": [
    "coords = ForwardKinematics([π/2,π/4,π/8])\n",
    "PlotRoboter(coords, [1; 1])"
   ]
  },
  {
   "cell_type": "code",
   "execution_count": null,
   "metadata": {
    "collapsed": false
   },
   "outputs": [],
   "source": [
    "q = [π/2 0.01 0.01]\n",
    "goal = [1.0; 1.5]\n",
    "j = 0\n",
    "ϵ = 0.01\n",
    "\n",
    "er = 1.0\n",
    "\n",
    "ioff()\n",
    "while er > ϵ\n",
    "    j = j + 1\n",
    "    q = InverseKinematics(goal, q)\n",
    "    coords = ForwardKinematics(q)\n",
    "    fig = PlotRoboter(coords ,goal)\n",
    "    savefig(\"ikj/robot_$(j-1).png\", bbox_inches=\"tight\")\n",
    "    close(fig)\n",
    "    dx = goal[1] - coords[3,1]\n",
    "    dy = goal[2] - coords[3,2]\n",
    "    er = sqrt(dx*dx + dy*dy)\n",
    "end\n",
    "\n",
    "er = 1\n",
    "goal = [0.0; 2.0]\n",
    "while er > ϵ\n",
    "    j = j + 1\n",
    "    q = InverseKinematics(goal, q)\n",
    "    coords = ForwardKinematics(q)\n",
    "    fig = PlotRoboter(coords ,goal)\n",
    "    savefig(\"ikj/robot_$(j-1).png\", bbox_inches=\"tight\")\n",
    "    close(fig)\n",
    "    dx = goal[1] - coords[3,1]\n",
    "    dy = goal[2] - coords[3,2]\n",
    "    er = sqrt(dx*dx + dy*dy)\n",
    "end\n",
    "\n",
    "er = 1\n",
    "goal = [-1.0; 1.5]\n",
    "while er > ϵ\n",
    "    j = j + 1\n",
    "    q = InverseKinematics(goal, q)\n",
    "    coords = ForwardKinematics(q)\n",
    "    fig = PlotRoboter(coords ,goal)\n",
    "    savefig(\"ikj/robot_$(j-1).png\", bbox_inches=\"tight\")\n",
    "    close(fig)\n",
    "    dx = goal[1] - coords[3,1]\n",
    "    dy = goal[2] - coords[3,2]\n",
    "    er = sqrt(dx*dx + dy*dy)\n",
    "end\n",
    "\n",
    "ion()"
   ]
  },
  {
   "cell_type": "code",
   "execution_count": null,
   "metadata": {
    "collapsed": true
   },
   "outputs": [],
   "source": []
  }
 ],
 "metadata": {
  "kernelspec": {
   "display_name": "Julia 0.4.3",
   "language": "julia",
   "name": "julia-0.4"
  },
  "language_info": {
   "file_extension": ".jl",
   "mimetype": "application/julia",
   "name": "julia",
   "version": "0.4.5"
  }
 },
 "nbformat": 4,
 "nbformat_minor": 0
}
